{
 "cells": [
  {
   "cell_type": "code",
   "execution_count": null,
   "metadata": {},
   "outputs": [],
   "source": [
    "## 54 Geração e Classificação de Imagens\n",
    "import openai\n",
    "from PIL import Image\n",
    "import requests\n"
   ]
  },
  {
   "cell_type": "code",
   "execution_count": null,
   "metadata": {},
   "outputs": [],
   "source": [
    "client = openai.Client()"
   ]
  },
  {
   "cell_type": "code",
   "execution_count": null,
   "metadata": {},
   "outputs": [],
   "source": [
    "# Code block for generating images\n",
    "name=\"robo_praia\"\n",
    "model=\"dall-e-3\"\n",
    "prompt=\"Crie uma imagem com dois robôs em uma praia lendo livro de finanças\"\n",
    "size=\"1024x1024\"\n",
    "quality=\"hd\"\n",
    "style=\"vivid\""
   ]
  },
  {
   "cell_type": "code",
   "execution_count": null,
   "metadata": {},
   "outputs": [],
   "source": [
    "resposta = client.images.generate()"
   ]
  },
  {
   "cell_type": "code",
   "execution_count": null,
   "metadata": {},
   "outputs": [],
   "source": [
    "client.images.generate(\n",
    "    model=model,\n",
    "    prompt=prompt,\n",
    "    size=size,\n",
    "    quality=quality,\n",
    "    style=style,\n",
    "    n=1\n",
    ")\n"
   ]
  },
  {
   "cell_type": "code",
   "execution_count": null,
   "metadata": {},
   "outputs": [],
   "source": [
    "#gera o arquivo\n",
    "resposta.data[0].revised_prompt"
   ]
  },
  {
   "cell_type": "code",
   "execution_count": null,
   "metadata": {},
   "outputs": [],
   "source": [
    "#Cria dinamicamente o nome do arquivo usando as variáveis nome, model, quality e style.\n",
    "#Obtém a URL da imagem a partir da resposta da API.\n",
    "#Faz o download da imagem usando requests.get.\n",
    "#Salva a imagem localmente no caminho especificado, em modo binário\n",
    "\n",
    "nome_arquivo = f\"files/{nome}_{model}_{quality}_{style}.jpg\"\n",
    "image_url = resposta.data[0].url\n",
    "image_data = requests.get(image_url).content\n",
    "with open(nome_arquivo, \"wb\") as f:\n",
    "    f.write(image_data)"
   ]
  },
  {
   "cell_type": "code",
   "execution_count": null,
   "metadata": {},
   "outputs": [],
   "source": []
  },
  {
   "cell_type": "code",
   "execution_count": null,
   "metadata": {},
   "outputs": [],
   "source": []
  }
 ],
 "metadata": {
  "language_info": {
   "name": "python"
  }
 },
 "nbformat": 4,
 "nbformat_minor": 2
}
