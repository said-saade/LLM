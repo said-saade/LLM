{
 "cells": [
  {
   "cell_type": "code",
   "execution_count": null,
   "id": "a32f494f",
   "metadata": {},
   "outputs": [
    {
     "data": {
      "text/plain": [
       "True"
      ]
     },
     "execution_count": 4,
     "metadata": {},
     "output_type": "execute_result"
    }
   ],
   "source": [
    "## aula 79 do curso de AI\n",
    "from dotenv import load_dotenv, find_dotenv\n",
    "load_dotenv(find_dotenv())\n"
   ]
  },
  {
   "cell_type": "code",
   "execution_count": 5,
   "id": "7bcc56d4",
   "metadata": {},
   "outputs": [],
   "source": [
    "import os\n",
    "api_key = os.environ.get(\"GEMINI_API_KEY\")"
   ]
  },
  {
   "cell_type": "code",
   "execution_count": 8,
   "id": "ffd9096a",
   "metadata": {},
   "outputs": [
    {
     "name": "stderr",
     "output_type": "stream",
     "text": [
      "c:\\Users\\said-\\OneDrive\\Área de Trabalho\\Python\\PythonTreinamentoAI\\LLM\\.venv\\Lib\\site-packages\\tqdm\\auto.py:21: TqdmWarning: IProgress not found. Please update jupyter and ipywidgets. See https://ipywidgets.readthedocs.io/en/stable/user_install.html\n",
      "  from .autonotebook import tqdm as notebook_tqdm\n"
     ]
    }
   ],
   "source": [
    "import google.generativeai as genai\n",
    "genai.configure(api_key=api_key)"
   ]
  },
  {
   "cell_type": "code",
   "execution_count": null,
   "id": "84d583f5",
   "metadata": {},
   "outputs": [],
   "source": [
    "## Define o modelo e envia a pergunta para o LLM\n",
    "model = genai.GenerativeModel(\"gemini-2.5-flash\")\n",
    "response = model.generate_content(\"Qual a maior empresa do Brasil no setor de serviços de internet e telecomunicão?\")"
   ]
  },
  {
   "cell_type": "code",
   "execution_count": 32,
   "id": "88a0a105",
   "metadata": {},
   "outputs": [],
   "source": [
    "## formata a resposta\n",
    "import textwrap\n",
    "\n",
    "def format_text(response):\n",
    "    text=response\n",
    "    text_form= textwrap.fill(text, width=100)\n",
    "    print(text_form)"
   ]
  },
  {
   "cell_type": "code",
   "execution_count": 35,
   "id": "b6d24e35",
   "metadata": {},
   "outputs": [
    {
     "name": "stdout",
     "output_type": "stream",
     "text": [
      "A maior empresa do Brasil no setor de serviços de internet e telecomunicação, considerando o\n",
      "faturamento e a abrangência de serviços (telefonia móvel, fixa, banda larga e TV por assinatura), é\n",
      "a **Vivo (Telefônica Brasil)**.  A Vivo consistentemente apresenta os maiores resultados em receita\n",
      "e lidera em número de acessos em diversas categorias, como a telefonia móvel e banda larga de fibra\n",
      "óptica, oferecendo um portfólio completo para consumidores e empresas.  **Outros grandes players\n",
      "importantes no setor são:**  *   **Claro (América Móvil Brasil):** Forte concorrente, especialmente\n",
      "em banda larga fixa (NET/Claro hdtv) e telefonia móvel, frequentemente sendo a segunda maior em\n",
      "faturamento. *   **TIM:** Focada principalmente em telefonia móvel (com a aquisição de parte da Oi\n",
      "Móvel, se fortaleceu bastante nessa área), mas também com expansão em banda larga fixa.  Mas, no\n",
      "consolidado, a **Vivo** mantém a liderança em termos de tamanho e faturamento geral.\n"
     ]
    }
   ],
   "source": [
    "## chama a função acima\n",
    "format_text(response.text)"
   ]
  },
  {
   "cell_type": "code",
   "execution_count": 36,
   "id": "52a70446",
   "metadata": {},
   "outputs": [
    {
     "name": "stdout",
     "output_type": "stream",
     "text": [
      "O sentido da felicidade é, acima de tudo, **profundamente pessoal e subjetivo**. Não existe uma única definição universal, e o que traz felicidade para uma pessoa pode não ser o mesmo para outra. No entanto, podemos explorar algumas das dimensões mais comuns e profundas do seu \"sentido\":\n",
      "\n",
      "1.  **Um Estado de Bem-Estar Geral:** Para muitos, a felicidade é uma sensação de bem-estar geral, satisfação e alegria que permeia a vida. Não se trata apenas de momentos eufóricos passageiros, mas de um contentamento mais duradouro e uma serenidade interior.\n",
      "\n",
      "2.  **Propósito e Significado:** Para muitos, a felicidade está ligada a ter um **propósito de vida**, sentir que o que se faz tem um significado maior do que a mera existência. Isso pode vir do trabalho, de relacionamentos, de um hobby, de uma causa social ou de crenças espirituais. Sentir-se útil e contribuir para algo maior do que si mesmo é uma fonte profunda de satisfação.\n",
      "\n",
      "3.  **Crescimento e Realização:** A felicidade pode ser o sentimento de estar **a desenvolver o seu potencial**, a aprender, a superar desafios e a atingir metas pessoais. Não é a ausência de problemas, mas a capacidade de enfrentá-los e crescer com eles.\n",
      "\n",
      "4.  **Conexão e Pertencimento:** Os seres humanos são sociais por natureza. A felicidade muitas vezes reside em **relacionamentos significativos**: amor, amizade, família, sentir-se parte de uma comunidade ou de algo maior. A sensação de ser amado, compreendido e de pertencer é vital.\n",
      "\n",
      "5.  **Paz Interior e Aceitação:** Estar em paz consigo mesmo, aceitar as suas imperfeições, viver no presente e não se prender excessivamente ao passado ou ao futuro pode ser um pilar da felicidade. É a capacidade de encontrar contentamento com o que se tem e com quem se é.\n",
      "\n",
      "6.  **Um Guia Interno:** A felicidade funciona como uma espécie de bússola interna. Quando nos sentimos felizes, geralmente significa que estamos em harmonia com os nossos valores, a tomar as decisões certas para nós e a seguir um caminho que nos beneficia.\n",
      "\n",
      "7.  **Não é um Destino, mas uma Jornada:** Muitas vezes, pensamos na felicidade como um destino a ser alcançado (\"Serei feliz quando...\"). No entanto, a verdadeira felicidade é percebida como uma **jornada contínua**, uma construção diária que envolve altos e baixos, desafios e alegrias. É a capacidade de apreciar os pequenos momentos e de encontrar gratidão no dia a dia.\n",
      "\n",
      "Em resumo, o sentido da felicidade é provavelmente a **sensação de uma vida bem vivida**, cheia de propósito, conexão, crescimento e paz. É um estado que se cultiva ativamente através das nossas escolhas, atitudes e da forma como nos relacionamos connosco mesmos e com o mundo. É uma busca contínua, mas também a capacidade de reconhecer e apreciar a própria busca."
     ]
    }
   ],
   "source": [
    "## stream\n",
    "\n",
    "stream = model.generate_content(\"Qual o sentido da felicidade?\", stream=True)\n",
    "complete_response = \"\"\n",
    "for chunck in stream:\n",
    "    print(chunck.text, end=\"\", flush=True)\n",
    "    complete_response += chunck.text\n",
    "\n"
   ]
  }
 ],
 "metadata": {
  "kernelspec": {
   "display_name": ".venv",
   "language": "python",
   "name": "python3"
  },
  "language_info": {
   "codemirror_mode": {
    "name": "ipython",
    "version": 3
   },
   "file_extension": ".py",
   "mimetype": "text/x-python",
   "name": "python",
   "nbconvert_exporter": "python",
   "pygments_lexer": "ipython3",
   "version": "3.13.7"
  }
 },
 "nbformat": 4,
 "nbformat_minor": 5
}
