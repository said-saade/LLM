{
 "cells": [
  {
   "cell_type": "code",
   "execution_count": null,
   "metadata": {},
   "outputs": [
    {
     "ename": "",
     "evalue": "",
     "output_type": "error",
     "traceback": [
      "\u001b[1;31mRunning cells with '.venv (Python 3.12.1)' requires the ipykernel package.\n",
      "\u001b[1;31mRun the following command to install 'ipykernel' into the Python environment. \n",
      "\u001b[1;31mCommand: 'c:/Python/LLM/.venv/Scripts/python.exe -m pip install ipykernel -U --force-reinstall'"
     ]
    }
   ],
   "source": [
    "#78 Usando os serviços de AI do GROQ no Python\n",
    "\"\"\"Chamada ao modelo com stream=True\n",
    "Ao usar stream=True, você está dizendo ao modelo para enviar a resposta em partes, conforme ela é gerada, em vez de esperar a resposta completa.\n",
    "Isso é útil para:\n",
    "    Melhorar a experiência do usuário (resposta começa a aparecer imediatamente)\n",
    "    Reduzir latência percebida\n",
    "    Exibir respostas longas de forma progressiva\n",
    "    flush=True força a impressão imediata no terminal\"\"\"\n",
    "\n",
    "from dotenv import load_dotenv, find_dotenv\n",
    "load_dotenv(find_dotenv())"
   ]
  },
  {
   "cell_type": "code",
   "execution_count": null,
   "metadata": {},
   "outputs": [],
   "source": [
    "from groq import Groq\n",
    "client = Groq()"
   ]
  },
  {
   "cell_type": "code",
   "execution_count": null,
   "metadata": {},
   "outputs": [],
   "source": [
    "mensagens = [\n",
    "    {\n",
    "        \"role\": \"user\",\n",
    "        \"content\": \"Explique a diferença entre llm e langchain. Responda em português\"\n",
    "    }\n",
    "]\n",
    "\n",
    "stream = client.chat.completions.create(\n",
    "    messages=mensagens,\n",
    "    model=\"llama3-8b-8192\",\n",
    "    stream=True\n",
    ")"
   ]
  },
  {
   "cell_type": "code",
   "execution_count": null,
   "metadata": {},
   "outputs": [],
   "source": [
    "#exibir o resultado. Parei no minuto 5\n",
    "for chunck in stream:\n",
    "    print(chunck.choices[0].delta.content, end=\"\", flush=true)"
   ]
  }
 ],
 "metadata": {
  "kernelspec": {
   "display_name": ".venv",
   "language": "python",
   "name": "python3"
  },
  "language_info": {
   "name": "python",
   "version": "3.12.1"
  }
 },
 "nbformat": 4,
 "nbformat_minor": 2
}
